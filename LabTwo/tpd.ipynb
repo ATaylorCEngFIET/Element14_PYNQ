{
 "cells": [
  {
   "cell_type": "code",
   "execution_count": 7,
   "metadata": {},
   "outputs": [],
   "source": [
    "import time \n",
    "from pynq.overlays.tpd_pynq import tpd_pynqOverlay\n",
    "import numpy as np\n",
    "from pynq import pl\n",
    "from pynq import overlay\n",
    "from pynq.lib.video import *\n",
    "from pynq import Xlnk\n",
    "import cv2\n",
    "import matplotlib.pyplot as plt\n",
    "overlay = tpd_pynqOverlay('tpd_pynq.bit')"
   ]
  },
  {
   "cell_type": "code",
   "execution_count": 8,
   "metadata": {},
   "outputs": [],
   "source": [
    "pixel_in = overlay.pixel_pack_0\n",
    "pixel_in.bits_per_pixel = 24\n",
    "\n",
    "colourspace_in = overlay.color_convert_0\n",
    "rgb2bgr = [0.0, 1.0, 0.0,\n",
    "           1.0, 0.0, 0.0,\n",
    "           0.0, 0.0, 1.0,\n",
    "           0.0, 0.0, 0.0]\n",
    "\n",
    "colourspace_in.colorspace = rgb2bgr"
   ]
  },
  {
   "cell_type": "code",
   "execution_count": 9,
   "metadata": {},
   "outputs": [],
   "source": [
    "cam_vdma = overlay.axi_vdma_0\n",
    "lines = 512\n",
    "framemode = VideoMode(640, lines, 24)\n",
    "cam_vdma.readchannel.mode = framemode\n",
    "cam_vdma.readchannel.start()"
   ]
  },
  {
   "cell_type": "code",
   "execution_count": 10,
   "metadata": {},
   "outputs": [],
   "source": [
    "tpg = overlay.v_tpg_0\n",
    "tpg.write(0x10,512)\n",
    "tpg.write(0x18,640)\n",
    "tpg.write(0x40,0)\n",
    "tpg.write(0x30,0)\n",
    "tpg.write(0x20,0xB)\n",
    "tpg.write(0x00,0x81)"
   ]
  },
  {
   "cell_type": "code",
   "execution_count": 11,
   "metadata": {},
   "outputs": [
    {
     "data": {
      "image/png": "[encoded data removed]",
      "text/plain": [
       "<matplotlib.figure.Figure at 0xb020f850>"
      ]
     },
     "metadata": {},
     "output_type": "display_data"
    }
   ],
   "source": [
    "frame_camera = cam_vdma.readchannel.readframe()\n",
    "frame_color=cv2.cvtColor(frame_camera,cv2.COLOR_BGR2RGB)\n",
    "pixels = np.array(frame_color)\n",
    "plt.imshow(pixels)\n",
    "plt.show()"
   ]
  },
  {
   "cell_type": "code",
   "execution_count": 12,
   "metadata": {},
   "outputs": [],
   "source": [
    "cam_vdma.readchannel.stop()"
   ]
  },
  {
   "cell_type": "code",
   "execution_count": null,
   "metadata": {},
   "outputs": [],
   "source": []
  }
 ],
 "metadata": {
  "kernelspec": {
   "display_name": "Python 3",
   "language": "python",
   "name": "python3"
  },
  "language_info": {
   "codemirror_mode": {
    "name": "ipython",
    "version": 3
   },
   "file_extension": ".py",
   "mimetype": "text/x-python",
   "name": "python",
   "nbconvert_exporter": "python",
   "pygments_lexer": "ipython3",
   "version": "3.6.5"
  }
 },
 "nbformat": 4,
 "nbformat_minor": 2
}
